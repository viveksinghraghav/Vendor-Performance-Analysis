{
 "cells": [
  {
   "cell_type": "code",
   "execution_count": 9,
   "metadata": {},
   "outputs": [],
   "source": [
    "from sqlalchemy import create_engine\n",
    "\n",
    "import pandas as pd\n",
    "\n",
    "import os\n",
    "import zipfile\n",
    "import logging\n",
    "import time"
   ]
  },
  {
   "cell_type": "code",
   "execution_count": 10,
   "id": "97fdc305",
   "metadata": {},
   "outputs": [],
   "source": [
    "logging.basicConfig(\n",
    "    filename=\"logs/.log\",\n",
    "    level=logging.DEBUG,\n",
    "    format=\"%(asctime)s - %(levelname)s - %(message)s\",\n",
    "    filemode=\"a\",\n",
    ")"
   ]
  },
  {
   "cell_type": "code",
   "execution_count": null,
   "id": "a41ed9d4",
   "metadata": {},
   "outputs": [],
   "source": [
    "engine = create_engine(\"sqlite:///inventory.db\")"
   ]
  },
  {
   "cell_type": "code",
   "execution_count": 12,
   "id": "0d87fcd5",
   "metadata": {},
   "outputs": [],
   "source": [
    "def ingest_db(df, table_name, engine, if_exists):\n",
    "    df.to_sql(table_name, con=engine, if_exists=if_exists, index=\"False\")"
   ]
  },
  {
   "cell_type": "code",
   "execution_count": null,
   "id": "8d67df61",
   "metadata": {},
   "outputs": [],
   "source": [
    "def load_raw_data():\n",
    "    \"\"\"Loads CSVs as dataframe and ingests into db\"\"\"\n",
    "    start = time.time()\n",
    "\n",
    "    for file in os.listdir(\"data\"):\n",
    "        if file.endswith(\".csv\"):\n",
    "            file_path = os.path.join(\"data\", file)\n",
    "            table_name = file[:-4]\n",
    "            logging.info(f\"Ingesting {file} into db\")\n",
    "\n",
    "            chunksize = 50000\n",
    "            first_chunk = True  # replace only once\n",
    "\n",
    "            for chunk in pd.read_csv(file_path, chunksize=chunksize):\n",
    "                if first_chunk:\n",
    "                    ingest_db(chunk, table_name, engine, if_exists=\"replace\")\n",
    "                    first_chunk = False\n",
    "                else:\n",
    "                    ingest_db(chunk, table_name, engine, if_exists=\"append\")\n",
    "\n",
    "    end = time.time()\n",
    "    total_time = (end - start) / 60\n",
    "    logging.info(\"----------Ingestion Complete----------\")\n",
    "    logging.info(f\"Total time taken: {total_time:.3f} minutes\")"
   ]
  },
  {
   "cell_type": "code",
   "execution_count": null,
   "id": "837ad08c",
   "metadata": {},
   "outputs": [],
   "source": [
    "if __name__ == \"__main__\":\n",
    "    load_raw_data()"
   ]
  },
  {
   "cell_type": "code",
   "execution_count": null,
   "id": "dc3a8708",
   "metadata": {},
   "outputs": [],
   "source": []
  }
 ],
 "metadata": {
  "kernelspec": {
   "display_name": ".venv",
   "language": "python",
   "name": "python3"
  },
  "language_info": {
   "codemirror_mode": {
    "name": "ipython",
    "version": 3
   },
   "file_extension": ".py",
   "mimetype": "text/x-python",
   "name": "python",
   "nbconvert_exporter": "python",
   "pygments_lexer": "ipython3",
   "version": "3.12.10"
  }
 },
 "nbformat": 4,
 "nbformat_minor": 5
}
